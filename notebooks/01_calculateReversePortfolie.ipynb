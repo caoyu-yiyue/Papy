{
 "cells": [
  {
   "cell_type": "code",
   "execution_count": 2,
   "metadata": {},
   "outputs": [
    {
     "name": "stdout",
     "output_type": "stream",
     "text": [
      "/Users/caoyue/Codes/Python/Papy\n"
     ]
    }
   ],
   "source": [
    "# Change directory to VSCode workspace root so that relative path loads work correctly. Turn this addition off with the DataScience.changeDirOnImportExport setting\n",
    "import os\n",
    "try:\n",
    "\tos.chdir(os.path.join(os.getcwd(), '..'))\n",
    "\tprint(os.getcwd())\n",
    "except:\n",
    "\tpass\n"
   ]
  },
  {
   "cell_type": "code",
   "execution_count": 3,
   "metadata": {},
   "outputs": [],
   "source": [
    "import pandas as pd\n",
    "import datetime\n",
    "import numpy as np\n"
   ]
  },
  {
   "cell_type": "code",
   "execution_count": 3,
   "metadata": {},
   "outputs": [],
   "source": [
    "# window length for backward and forward\n",
    "backward_window = 60\n",
    "forward_window = 5\n"
   ]
  },
  {
   "cell_type": "code",
   "execution_count": 4,
   "metadata": {},
   "outputs": [],
   "source": [
    "store = pd.HDFStore('data/raw_data.h5')\n",
    "ret_df: pd.DataFrame = store.get('ret_df').sort_index()\n",
    "annodt_df: pd.DataFrame = store.get('annodt_df')\n",
    "store.close()\n"
   ]
  },
  {
   "cell_type": "code",
   "execution_count": 5,
   "metadata": {},
   "outputs": [],
   "source": [
    "# 为annodt_df 增加index 用于后面的合并；同时留下原时间列、增加一列滞后的列，用于接下来的判断。\n",
    "annodt_df.set_index('Annodt', drop=False, append=True, inplace=True)\n",
    "annodt_df.index.names = ['Stkcd', 'Trddt']\n",
    "annodt_df['Annodt_lag'] = annodt_df['Annodt'] + datetime.timedelta(days=1)\n"
   ]
  },
  {
   "cell_type": "code",
   "execution_count": 6,
   "metadata": {},
   "outputs": [],
   "source": [
    "# 合并收益数据和宣告日数据，同时为了按代码分组。\n",
    "ret_df_with_annodt: pd.DataFrame = ret_df.join(\n",
    "    annodt_df, on=['Stkcd', 'Trddt'], how='outer')\n",
    "ret_df_grouped = ret_df_with_annodt.groupby(level='Stkcd')\n",
    "\n",
    "# 删除宣发日和其后一日的行。逻辑为：交易日既不在宣发日，同时也不在后一日的list 里。\n",
    "ret_df_without_annodt = ret_df_grouped.apply(\n",
    "    lambda df: df.query('Trddt not in Annodt and Trddt not in Annodt_lag'))\n",
    "\n",
    "# 通过reset_index() 来去掉分组。同时删掉不需要的宣发日期列。\n",
    "ret_df_final: pd.DataFrame = ret_df_without_annodt.reset_index(\n",
    "    level=0, drop=True).drop(\n",
    "        labels=['Annodt', 'Annodt_lag'], axis=1)\n",
    "\n",
    "#############################################################################\n",
    "# add some column for future use\n"
   ]
  },
  {
   "cell_type": "code",
   "execution_count": 7,
   "metadata": {},
   "outputs": [],
   "source": [
    "# 计算每组的组合权重dollar_volumn\n",
    "ret_df_grouped = ret_df_final.groupby('Stkcd')\n",
    "ret_df_final['dollar_volumn'] = ret_df_grouped.apply(\n",
    "    lambda df: df['Clsprc'].shift() * df['Dnshrtrd']).reset_index(\n",
    "        level=0, drop=True)\n"
   ]
  },
  {
   "cell_type": "code",
   "execution_count": 8,
   "metadata": {},
   "outputs": [],
   "source": [
    "ret_df_final['log_ret'] = np.log1p(ret_df_final['Dretwd'])\n"
   ]
  },
  {
   "cell_type": "code",
   "execution_count": 9,
   "metadata": {},
   "outputs": [
    {
     "name": "stderr",
     "output_type": "stream",
     "text": [
      "/usr/local/lib/python3.7/site-packages/ipykernel_launcher.py:5: FutureWarning: Currently, 'apply' passes the values as ndarrays to the applied function. In the future, this will change to passing it as Series objects. You need to specify 'raw=True' to keep the current behaviour, and you can pass 'raw=False' to silence this warning\n",
      "  \"\"\"\n"
     ]
    }
   ],
   "source": [
    "ret_df_grouped = ret_df_final.groupby(level='Stkcd')\n",
    "# 计算标准化收益率\n",
    "normalied_df: pd.Series = ret_df_grouped['log_ret'].rolling(\n",
    "    window=backward_window).apply(\n",
    "        lambda window: (window[-1] - window.mean()) / window.std())\n",
    "# 标准化收益率合并到原数据\n",
    "normalied_df.reset_index(level=0, drop=True, inplace=True)\n",
    "ret_df_final['Norm_ret'] = normalied_df\n",
    "\n",
    "# 在最后清理空值，防止因为两列空值重叠时多删数据。\n",
    "ret_df_final.dropna(subset=['Norm_ret', 'dollar_volumn'], inplace=True)\n",
    "\n",
    "##############################################################################\n",
    "# group the data.\n"
   ]
  },
  {
   "cell_type": "code",
   "execution_count": 10,
   "metadata": {},
   "outputs": [
    {
     "data": {
      "text/html": [
       "<div>\n",
       "<style scoped>\n",
       "    .dataframe tbody tr th:only-of-type {\n",
       "        vertical-align: middle;\n",
       "    }\n",
       "\n",
       "    .dataframe tbody tr th {\n",
       "        vertical-align: top;\n",
       "    }\n",
       "\n",
       "    .dataframe thead th {\n",
       "        text-align: right;\n",
       "    }\n",
       "</style>\n",
       "<table border=\"1\" class=\"dataframe\">\n",
       "  <thead>\n",
       "    <tr style=\"text-align: right;\">\n",
       "      <th></th>\n",
       "      <th></th>\n",
       "      <th>Clsprc</th>\n",
       "      <th>Dnshrtrd</th>\n",
       "      <th>Dsmvosd</th>\n",
       "      <th>Dretwd</th>\n",
       "      <th>dollar_volumn</th>\n",
       "      <th>log_ret</th>\n",
       "      <th>Norm_ret</th>\n",
       "    </tr>\n",
       "    <tr>\n",
       "      <th>Stkcd</th>\n",
       "      <th>Trddt</th>\n",
       "      <th></th>\n",
       "      <th></th>\n",
       "      <th></th>\n",
       "      <th></th>\n",
       "      <th></th>\n",
       "      <th></th>\n",
       "      <th></th>\n",
       "    </tr>\n",
       "  </thead>\n",
       "  <tbody>\n",
       "    <tr>\n",
       "      <th rowspan=\"5\" valign=\"top\">1</th>\n",
       "      <th>2007-09-17</th>\n",
       "      <td>36.40</td>\n",
       "      <td>13577318.0</td>\n",
       "      <td>56426835.45</td>\n",
       "      <td>0.000550</td>\n",
       "      <td>4.939428e+08</td>\n",
       "      <td>0.000550</td>\n",
       "      <td>-0.141667</td>\n",
       "    </tr>\n",
       "    <tr>\n",
       "      <th>2007-09-18</th>\n",
       "      <td>35.30</td>\n",
       "      <td>19907099.0</td>\n",
       "      <td>54721628.88</td>\n",
       "      <td>-0.030220</td>\n",
       "      <td>7.246184e+08</td>\n",
       "      <td>-0.030686</td>\n",
       "      <td>-0.859069</td>\n",
       "    </tr>\n",
       "    <tr>\n",
       "      <th>2007-09-19</th>\n",
       "      <td>36.18</td>\n",
       "      <td>19033887.0</td>\n",
       "      <td>56085794.13</td>\n",
       "      <td>0.024929</td>\n",
       "      <td>6.718962e+08</td>\n",
       "      <td>0.024623</td>\n",
       "      <td>0.586278</td>\n",
       "    </tr>\n",
       "    <tr>\n",
       "      <th>2007-09-20</th>\n",
       "      <td>35.97</td>\n",
       "      <td>13596616.0</td>\n",
       "      <td>55760254.70</td>\n",
       "      <td>-0.005804</td>\n",
       "      <td>4.919256e+08</td>\n",
       "      <td>-0.005821</td>\n",
       "      <td>-0.198387</td>\n",
       "    </tr>\n",
       "    <tr>\n",
       "      <th>2007-09-21</th>\n",
       "      <td>36.16</td>\n",
       "      <td>15811498.0</td>\n",
       "      <td>56054790.38</td>\n",
       "      <td>0.005282</td>\n",
       "      <td>5.687396e+08</td>\n",
       "      <td>0.005268</td>\n",
       "      <td>0.089560</td>\n",
       "    </tr>\n",
       "  </tbody>\n",
       "</table>\n",
       "</div>"
      ],
      "text/plain": [
       "                  Clsprc    Dnshrtrd      Dsmvosd    Dretwd  dollar_volumn  \\\n",
       "Stkcd Trddt                                                                  \n",
       "1     2007-09-17   36.40  13577318.0  56426835.45  0.000550   4.939428e+08   \n",
       "      2007-09-18   35.30  19907099.0  54721628.88 -0.030220   7.246184e+08   \n",
       "      2007-09-19   36.18  19033887.0  56085794.13  0.024929   6.718962e+08   \n",
       "      2007-09-20   35.97  13596616.0  55760254.70 -0.005804   4.919256e+08   \n",
       "      2007-09-21   36.16  15811498.0  56054790.38  0.005282   5.687396e+08   \n",
       "\n",
       "                   log_ret  Norm_ret  \n",
       "Stkcd Trddt                           \n",
       "1     2007-09-17  0.000550 -0.141667  \n",
       "      2007-09-18 -0.030686 -0.859069  \n",
       "      2007-09-19  0.024623  0.586278  \n",
       "      2007-09-20 -0.005821 -0.198387  \n",
       "      2007-09-21  0.005268  0.089560  "
      ]
     },
     "execution_count": 10,
     "metadata": {},
     "output_type": "execute_result"
    }
   ],
   "source": [
    "ret_df_final.head()"
   ]
  },
  {
   "cell_type": "code",
   "execution_count": 1,
   "metadata": {},
   "outputs": [
    {
     "ename": "NameError",
     "evalue": "name 'ret_df_final' is not defined",
     "output_type": "error",
     "traceback": [
      "\u001b[0;31m---------------------------------------------------------------------------\u001b[0m",
      "\u001b[0;31mNameError\u001b[0m                                 Traceback (most recent call last)",
      "\u001b[0;32m<ipython-input-1-8618b14fe4d1>\u001b[0m in \u001b[0;36m<module>\u001b[0;34m\u001b[0m\n\u001b[0;32m----> 1\u001b[0;31m ret_df_grouped = ret_df_final.groupby(\n\u001b[0m\u001b[1;32m      2\u001b[0m     'Trddt', group_keys=False)\n\u001b[1;32m      3\u001b[0m ret_df_final['cap_group'] = ret_df_grouped['Dsmvosd'].transform(\n\u001b[1;32m      4\u001b[0m     \u001b[0;32mlambda\u001b[0m \u001b[0mseries\u001b[0m\u001b[0;34m:\u001b[0m \u001b[0mpd\u001b[0m\u001b[0;34m.\u001b[0m\u001b[0mqcut\u001b[0m\u001b[0;34m(\u001b[0m\u001b[0mseries\u001b[0m\u001b[0;34m,\u001b[0m \u001b[0mq\u001b[0m\u001b[0;34m=\u001b[0m\u001b[0;36m5\u001b[0m\u001b[0;34m,\u001b[0m \u001b[0mlabels\u001b[0m\u001b[0;34m=\u001b[0m\u001b[0;34m[\u001b[0m\u001b[0;34m'Small'\u001b[0m\u001b[0;34m,\u001b[0m \u001b[0;34m'2'\u001b[0m\u001b[0;34m,\u001b[0m \u001b[0;34m'3'\u001b[0m\u001b[0;34m,\u001b[0m \u001b[0;34m'4'\u001b[0m\u001b[0;34m,\u001b[0m \u001b[0;34m'Big'\u001b[0m\u001b[0;34m]\u001b[0m\u001b[0;34m)\u001b[0m\u001b[0;34m\u001b[0m\u001b[0;34m\u001b[0m\u001b[0m\n\u001b[1;32m      5\u001b[0m         )\n",
      "\u001b[0;31mNameError\u001b[0m: name 'ret_df_final' is not defined"
     ]
    }
   ],
   "source": [
    "ret_df_grouped = ret_df_final.groupby(\n",
    "    'Trddt', group_keys=False)\n",
    "ret_df_final['cap_group'] = ret_df_grouped['Dsmvosd'].transform(\n",
    "    lambda series: pd.qcut(series, q=5, labels=['Small', '2', '3', '4', 'Big'])\n",
    "        )\n"
   ]
  },
  {
   "cell_type": "code",
   "execution_count": 0,
   "metadata": {},
   "outputs": [],
   "source": [
    "ret_df_final['ret_group'] = ret_df_grouped['Norm_ret'].transform(\n",
    "    lambda series: pd.qcut(\n",
    "        series, q=10,\n",
    "        labels=['Lo', '2', '3', '4', '5', '6', '7', '8', '9', 'Hi'])\n",
    "            )\n",
    "\n"
   ]
  },
  {
   "cell_type": "code",
   "execution_count": 0,
   "metadata": {},
   "outputs": [],
   "source": [
    "def cumulative_ret(data_serie: pd.Series):\n",
    "    '''\n",
    "    data_serie: array like nums\n",
    "    输入一列数字，计算累积收益率。如：\n",
    "    输入[0.4, 0.3, 0.2]，返回（1 * 1.2 * 1.3 * 1.4 - 1）\n",
    "    '''\n",
    "    cumul_ret = 1\n",
    "    for num in data_serie:\n",
    "        cumul_ret = (1 + num) * cumul_ret\n",
    "    return (cumul_ret - 1)\n",
    "\n",
    "\n",
    "# cumulative_ret([0.4, 0.3, 0.2, 0.1])\n"
   ]
  },
  {
   "cell_type": "code",
   "execution_count": 0,
   "metadata": {},
   "outputs": [],
   "source": [
    "# 将时间倒序，解决下一步rolling 对象没有向前rolling 的问题。\n",
    "ret_df_grouped = ret_df_final.groupby('Stkcd')\n",
    "tem = ret_df_grouped['Dretwd'].apply(\n",
    "    lambda serie: serie.sort_index(level='Trddt', ascending=False).shift(2)\n",
    ").reset_index(\n",
    "    level=0, drop=True)\n",
    "\n",
    "# 将上面倒叙过后的数据框，使用cumulative_ret 函数计算未来五天的累积收益率。最后把顺序转回来\n",
    "ret_df_final['cum_ret'] = tem.groupby('Stkcd').rolling(forward_window).apply(\n",
    "    cumulative_ret).reset_index(\n",
    "        level=0, drop=True).sort_index(level=['Stkcd', 'Trddt'])\n",
    "ret_df_final.dropna(subset=['cum_ret'], inplace=True)\n"
   ]
  },
  {
   "cell_type": "code",
   "execution_count": 0,
   "metadata": {},
   "outputs": [],
   "source": [
    "# 计算每组按照dollar_volumn 加权得到的组合收益率\n",
    "ret_df_grouped = ret_df_final.groupby(['Trddt', 'cap_group', 'ret_group'])\n",
    "portfolie_ret_serie = ret_df_grouped.apply(\n",
    "    lambda df: np.average(df['cum_ret'], weights=df['dollar_volumn']))\n"
   ]
  },
  {
   "cell_type": "code",
   "execution_count": 0,
   "metadata": {},
   "outputs": [],
   "source": [
    "# 试用agg 函数。性能表现不好暂时放在这里。\n",
    "# ret_df_grouped.agg({\n",
    "#     'cum_ret':\n",
    "#     lambda x: np.average(x, weights=ret_df_grouped['dollar_volumn'])\n",
    "# })\n"
   ]
  },
  {
   "cell_type": "code",
   "execution_count": 0,
   "metadata": {},
   "outputs": [],
   "source": [
    "\n",
    "\n",
    "# “输家-赢家”，计算反转收益的函数。\n",
    "def reverse_port(serie: pd.Series):\n",
    "    '''\n",
    "    输入不同标准收益率分组的一列序列，输家-赢家获得反转组合收益\n",
    "    serie: pd.Series 一列分组后的收益值，输家在前，赢家在后。\n",
    "    '''\n",
    "    result = []\n",
    "    for index in range(5):\n",
    "        high_group = serie.iloc[9 - index]\n",
    "        low_group = serie.iloc[index]\n",
    "        result.append(low_group - high_group)\n",
    "    return result\n",
    "\n",
    "\n",
    "# 按照日期和cap_group 分组后，每组内应用以上的函数求出反转收益。\n",
    "portfolie_ret_grouped = portfolie_ret_serie.groupby(['Trddt', 'cap_group'])\n",
    "reverse_ret_in_serie: pd.Series = portfolie_ret_grouped.apply(reverse_port)\n",
    "\n",
    "# 上面输出一个serie of list，把它转化为一个数据框。\n",
    "reverse_ret_each_day = pd.DataFrame(\n",
    "    (item for item in reverse_ret_in_serie),\n",
    "    index=reverse_ret_in_serie.index,\n",
    "    columns=['Lo-Hi', '2-9', '3-8', '4-7', '5-6'])\n",
    "reverse_ret_aver = reverse_ret_each_day.groupby('cap_group', sort=False).mean()\n",
    "\n",
    "# 计算均值后cap_group 失去了Categories 类型，重新规定为CategoricalIndex 并排序\n",
    "reverse_ret_aver.set_index(\n",
    "    pd.CategoricalIndex(\n",
    "        reverse_ret_aver.index, categories=['Small', '2', '3', '4', 'Big']),\n",
    "    inplace=True)\n",
    "reverse_ret_aver.sort_index()\n"
   ]
  },
  {
   "cell_type": "code",
   "execution_count": 0,
   "metadata": {},
   "outputs": [],
   "source": [
    "# store = pd.HDFStore('data/reverse_portfolie.h5')\n",
    "# key = 'reverse' + str(backward_window) + '_' + str(forward_window)\n",
    "# store[key] = reverse_ret_aver\n",
    "# # store.get('reverse20_5')\n",
    "# store.close()\n"
   ]
  }
 ],
 "metadata": {
  "file_extension": ".py",
  "kernelspec": {
   "display_name": "Python 3",
   "language": "python",
   "name": "python3"
  },
  "language_info": {
   "codemirror_mode": {
    "name": "ipython",
    "version": 3
   },
   "file_extension": ".py",
   "mimetype": "text/x-python",
   "name": "python",
   "nbconvert_exporter": "python",
   "pygments_lexer": "ipython3",
   "version": "3.7.2"
  },
  "mimetype": "text/x-python",
  "name": "python",
  "npconvert_exporter": "python",
  "pygments_lexer": "ipython3",
  "version": 3
 },
 "nbformat": 4,
 "nbformat_minor": 2
}
